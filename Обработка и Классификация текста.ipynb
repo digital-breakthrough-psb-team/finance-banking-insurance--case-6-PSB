{
 "cells": [
  {
   "cell_type": "code",
   "execution_count": 1,
   "metadata": {},
   "outputs": [
    {
     "name": "stdout",
     "output_type": "stream",
     "text": [
      "Collecting PyMuPDF"
     ]
    },
    {
     "name": "stderr",
     "output_type": "stream",
     "text": [
      "WARNING: You are using pip version 21.0.1; however, version 21.2.4 is available.\n",
      "You should consider upgrading via the 'c:\\users\\p\\appdata\\local\\programs\\python\\python38-32\\python.exe -m pip install --upgrade pip' command.\n"
     ]
    },
    {
     "name": "stdout",
     "output_type": "stream",
     "text": [
      "\n",
      "  Downloading PyMuPDF-1.18.17-cp38-cp38-win32.whl (4.9 MB)\n",
      "Installing collected packages: PyMuPDF\n",
      "Successfully installed PyMuPDF-1.18.17\n"
     ]
    }
   ],
   "source": [
    "!pip3 install PyMuPDF # для работы с PDF"
   ]
  },
  {
   "cell_type": "code",
   "execution_count": 36,
   "metadata": {},
   "outputs": [],
   "source": [
    "import fitz\n",
    "# from PIL import Image\n",
    "\n",
    "import re\n",
    "\n",
    "import pytesseract\n",
    "import cv2\n",
    "\n",
    "import os"
   ]
  },
  {
   "cell_type": "code",
   "execution_count": 5,
   "metadata": {},
   "outputs": [],
   "source": [
    "# настройки для модуля распознавания текста\n",
    "\n",
    "pytesseract.pytesseract.tesseract_cmd = r\"C:\\Program Files\\Tesseract-OCR\\tesseract.exe\"\n",
    "tessdata_dir_config = r'--tessdata-dir \"C:\\\\Program Files\\\\Tesseract-OCR\\\\tessdata\"'"
   ]
  },
  {
   "cell_type": "markdown",
   "metadata": {},
   "source": [
    "# Чтение pdf файлов"
   ]
  },
  {
   "cell_type": "code",
   "execution_count": 1,
   "metadata": {},
   "outputs": [
    {
     "name": "stdout",
     "output_type": "stream",
     "text": [
      "number of pages: 35\n",
      "{'format': 'PDF 1.3', 'title': 'УТВЕРЖДЕН', 'author': 'Андреева Наталья Константиновна', 'subject': '', 'keywords': '', 'creator': '', 'producer': 'ABBYY FineReader 10', 'creationDate': \"D:20161124130204+03'00'\", 'modDate': \"D:20161124130204+03'00'\", 'trapped': '', 'encryption': None}\n",
      "\n"
     ]
    }
   ],
   "source": [
    "import fitz\n",
    "\n",
    "pdf_document = \"D:\\\\Downloads\\\\Устав НКХП.pdf\"  \n",
    "doc = fitz.open(pdf_document)\n",
    "print (\"number of pages: %i\" % doc.pageCount)\n",
    "  \n",
    "print(doc.metadata)\n",
    "page1 = doc.loadPage(0)  \n",
    "page1text = page1.getText('text')  \n",
    "print(page1text)  "
   ]
  },
  {
   "cell_type": "code",
   "execution_count": 21,
   "metadata": {},
   "outputs": [],
   "source": [
    "import fitz\n",
    "\n",
    "\n",
    "# распознование pdf файла как картинки и сохрание каждой отдельной страницы как картинки\n",
    "pdf_document = fitz.open(\"D:\\\\Downloads\\\\Устав НКХП.pdf\")  \n",
    "for current_page in range(len(pdf_document)):  \n",
    "       for image in pdf_document.getPageImageList(current_page):\n",
    "            xref = image[0]\n",
    "            pix = fitz.Pixmap(pdf_document, xref)\n",
    "            if pix.n < 5:        # this is GRAY or RGB\n",
    "                pix.writePNG(\"page%s-%s.png\" % (current_page, xref))\n",
    "            else:                # CMYK: convert to RGB first\n",
    "                pix1 = fitz.Pixmap(fitz.csRGB, pix)\n",
    "                pix1.writePNG(\"page%s-%s.png\" % (current_page, xref))\n",
    "                pix1 = None\n",
    "            pix = None"
   ]
  },
  {
   "cell_type": "code",
   "execution_count": 24,
   "metadata": {
    "collapsed": true
   },
   "outputs": [
    {
     "name": "stdout",
     "output_type": "stream",
     "text": [
      "page 0 of D:\\Downloads\\Устав НКХП.pdf\n",
      "page 1 of D:\\Downloads\\Устав НКХП.pdf\n",
      "page 2 of D:\\Downloads\\Устав НКХП.pdf\n",
      "page 3 of D:\\Downloads\\Устав НКХП.pdf\n",
      "page 4 of D:\\Downloads\\Устав НКХП.pdf\n",
      "page 5 of D:\\Downloads\\Устав НКХП.pdf\n",
      "page 6 of D:\\Downloads\\Устав НКХП.pdf\n",
      "page 7 of D:\\Downloads\\Устав НКХП.pdf\n",
      "page 8 of D:\\Downloads\\Устав НКХП.pdf\n",
      "page 9 of D:\\Downloads\\Устав НКХП.pdf\n",
      "page 10 of D:\\Downloads\\Устав НКХП.pdf\n",
      "page 11 of D:\\Downloads\\Устав НКХП.pdf\n",
      "page 12 of D:\\Downloads\\Устав НКХП.pdf\n",
      "page 13 of D:\\Downloads\\Устав НКХП.pdf\n",
      "page 14 of D:\\Downloads\\Устав НКХП.pdf\n",
      "page 15 of D:\\Downloads\\Устав НКХП.pdf\n",
      "page 16 of D:\\Downloads\\Устав НКХП.pdf\n",
      "page 17 of D:\\Downloads\\Устав НКХП.pdf\n",
      "page 18 of D:\\Downloads\\Устав НКХП.pdf\n",
      "page 19 of D:\\Downloads\\Устав НКХП.pdf\n",
      "page 20 of D:\\Downloads\\Устав НКХП.pdf\n",
      "page 21 of D:\\Downloads\\Устав НКХП.pdf\n",
      "page 22 of D:\\Downloads\\Устав НКХП.pdf\n",
      "page 23 of D:\\Downloads\\Устав НКХП.pdf\n",
      "page 24 of D:\\Downloads\\Устав НКХП.pdf\n",
      "page 25 of D:\\Downloads\\Устав НКХП.pdf\n",
      "page 26 of D:\\Downloads\\Устав НКХП.pdf\n",
      "page 27 of D:\\Downloads\\Устав НКХП.pdf\n",
      "page 28 of D:\\Downloads\\Устав НКХП.pdf\n",
      "page 29 of D:\\Downloads\\Устав НКХП.pdf\n",
      "page 30 of D:\\Downloads\\Устав НКХП.pdf\n",
      "page 31 of D:\\Downloads\\Устав НКХП.pdf\n",
      "page 32 of D:\\Downloads\\Устав НКХП.pdf\n",
      "page 33 of D:\\Downloads\\Устав НКХП.pdf\n",
      "page 34 of D:\\Downloads\\Устав НКХП.pdf\n"
     ]
    }
   ],
   "source": [
    "for i in pdf_document:\n",
    "    print(i)"
   ]
  },
  {
   "cell_type": "code",
   "execution_count": 50,
   "metadata": {
    "scrolled": false
   },
   "outputs": [
    {
     "name": "stdout",
     "output_type": "stream",
     "text": [
      "ОГРН РГР Ре\n",
      "\n",
      "дата внесения записи в ЕГРЮЛ Утвержден\n",
      "\n",
      "ра р - Решением внеочередного общего собрания\n",
      "75. и 2075. акционеров ПАО «НКХП»\n",
      "за ГРН 7697274 «07» ноября 2016 года\n",
      "\n",
      "(Протокол № 49 от «07» ноября 2016 года)\n",
      "\n",
      "УСТАВ\n",
      "\n",
      "Публичного акционерного общества\n",
      "«Новороссийский комбинат хлебопродуктов»\n",
      "(Редакция № 2)\n",
      "\n",
      "2016 год\n",
      "\f",
      "\n"
     ]
    }
   ],
   "source": [
    "img = cv2.imread('C:\\\\Users\\\\P\\\\Start folder for Jupyter\\\\page0-309.png')\n",
    "# img = cv2.cvtColor(img, cv2.COLOR_BGR2RGB)\n",
    "\n",
    "# cv2.imshow('result', img)\n",
    "# cv2.waitKey(0)\n",
    "# cv2.destroyAllWindows()\n",
    "\n",
    "print(pytesseract.image_to_string(img, lang= 'rus', config=tessdata_dir_config))"
   ]
  },
  {
   "cell_type": "code",
   "execution_count": null,
   "metadata": {},
   "outputs": [],
   "source": [
    "# альтернативное чтение файла\n",
    "\n",
    "# from PIL import Image\n",
    "\n",
    "# img = Image.open('C:\\\\Users\\\\P\\\\Start folder for Jupyter\\\\page0-309.png')\n",
    "# # print(img)\n",
    "# cv2.imshow('result',img)\n",
    "# # cv2.waitKey(0)\n",
    "# # cv2.destroyAllWindows()\n",
    "# # print(pytesseract.image_to_string(im))\n",
    "\n",
    "# cv2.imshow('result', img)\n",
    "# cv2.waitKey(0)\n",
    "# cv2.destroyAllWindows()"
   ]
  },
  {
   "cell_type": "markdown",
   "metadata": {},
   "source": [
    "# Обход дерева папок"
   ]
  },
  {
   "cell_type": "code",
   "execution_count": 37,
   "metadata": {},
   "outputs": [
    {
     "data": {
      "text/plain": [
       "'C:\\\\Users\\\\P\\\\Start folder for Jupyter'"
      ]
     },
     "execution_count": 37,
     "metadata": {},
     "output_type": "execute_result"
    }
   ],
   "source": [
    "os.getcwd()"
   ]
  },
  {
   "cell_type": "code",
   "execution_count": 38,
   "metadata": {},
   "outputs": [
    {
     "data": {
      "text/plain": [
       "'C:\\\\Users\\\\P\\\\Start folder for Jupyter\\\\train_for_pdf'"
      ]
     },
     "execution_count": 38,
     "metadata": {},
     "output_type": "execute_result"
    }
   ],
   "source": [
    "# задаем корневую директорию куда все будем складывать\n",
    "\n",
    "os.chdir('C:\\\\Users\\\\P\\\\Start folder for Jupyter\\\\train_for_pdf')\n",
    "os.getcwd()"
   ]
  },
  {
   "cell_type": "code",
   "execution_count": 39,
   "metadata": {},
   "outputs": [
    {
     "name": "stdout",
     "output_type": "stream",
     "text": [
      "['ПАО НКХП 2315014748'] []\n",
      "['Не верифицированные документы', 'Описание бизнеса', 'Финансовое досье', 'Юридическое досье'] ['перечень критериев досье.xlsx']\n",
      "[] []\n",
      "[] ['Презентация компании 2.pdf', 'Презентация компании.pdf']\n",
      "['2020', '2021'] []\n",
      "['4 квартал'] []\n",
      "['Бухгалтерская отчетность'] []\n",
      "[] ['Аудиторское заключение.pdf', 'Форма 1.pdf', 'Форма 2.pdf']\n",
      "['1 квартал'] []\n",
      "['Бухгалтерская отчетность'] ['F2_КАМАЗ_09.2020.xls', 'Баланс_КАМАЗ_9 мес.2020.xls']\n",
      "[] ['Форма 1_1кв21.pdf', 'Форма 2_1кв21.pdf']\n",
      "['Документы, подтверждающие полномочия на совершение сделки', 'Учредительные и иные внутренние документы'] []\n",
      "[] ['Назначение ЕИО.pdf']\n",
      "[] ['Положение.pdf', 'Устав НКХП.pdf']\n"
     ]
    },
    {
     "data": {
      "text/plain": [
       "['C:\\\\Users\\\\P\\\\Start folder for Jupyter\\\\PSB\\\\dataset\\\\Промсвязьбанк Датасет\\\\Тестовый dataset\\\\ПАО НКХП 2315014748\\\\Описание бизнеса\\\\Презентация компании 2.pdf',\n",
       " 'C:\\\\Users\\\\P\\\\Start folder for Jupyter\\\\PSB\\\\dataset\\\\Промсвязьбанк Датасет\\\\Тестовый dataset\\\\ПАО НКХП 2315014748\\\\Описание бизнеса\\\\Презентация компании.pdf',\n",
       " 'C:\\\\Users\\\\P\\\\Start folder for Jupyter\\\\PSB\\\\dataset\\\\Промсвязьбанк Датасет\\\\Тестовый dataset\\\\ПАО НКХП 2315014748\\\\Финансовое досье\\\\2020\\\\4 квартал\\\\Бухгалтерская отчетность\\\\Аудиторское заключение.pdf',\n",
       " 'C:\\\\Users\\\\P\\\\Start folder for Jupyter\\\\PSB\\\\dataset\\\\Промсвязьбанк Датасет\\\\Тестовый dataset\\\\ПАО НКХП 2315014748\\\\Финансовое досье\\\\2020\\\\4 квартал\\\\Бухгалтерская отчетность\\\\Форма 1.pdf',\n",
       " 'C:\\\\Users\\\\P\\\\Start folder for Jupyter\\\\PSB\\\\dataset\\\\Промсвязьбанк Датасет\\\\Тестовый dataset\\\\ПАО НКХП 2315014748\\\\Финансовое досье\\\\2020\\\\4 квартал\\\\Бухгалтерская отчетность\\\\Форма 2.pdf',\n",
       " 'C:\\\\Users\\\\P\\\\Start folder for Jupyter\\\\PSB\\\\dataset\\\\Промсвязьбанк Датасет\\\\Тестовый dataset\\\\ПАО НКХП 2315014748\\\\Финансовое досье\\\\2021\\\\1 квартал\\\\Бухгалтерская отчетность\\\\Форма 1_1кв21.pdf',\n",
       " 'C:\\\\Users\\\\P\\\\Start folder for Jupyter\\\\PSB\\\\dataset\\\\Промсвязьбанк Датасет\\\\Тестовый dataset\\\\ПАО НКХП 2315014748\\\\Финансовое досье\\\\2021\\\\1 квартал\\\\Бухгалтерская отчетность\\\\Форма 2_1кв21.pdf',\n",
       " 'C:\\\\Users\\\\P\\\\Start folder for Jupyter\\\\PSB\\\\dataset\\\\Промсвязьбанк Датасет\\\\Тестовый dataset\\\\ПАО НКХП 2315014748\\\\Юридическое досье\\\\Документы, подтверждающие полномочия на совершение сделки\\\\Назначение ЕИО.pdf',\n",
       " 'C:\\\\Users\\\\P\\\\Start folder for Jupyter\\\\PSB\\\\dataset\\\\Промсвязьбанк Датасет\\\\Тестовый dataset\\\\ПАО НКХП 2315014748\\\\Юридическое досье\\\\Учредительные и иные внутренние документы\\\\Положение.pdf',\n",
       " 'C:\\\\Users\\\\P\\\\Start folder for Jupyter\\\\PSB\\\\dataset\\\\Промсвязьбанк Датасет\\\\Тестовый dataset\\\\ПАО НКХП 2315014748\\\\Юридическое досье\\\\Учредительные и иные внутренние документы\\\\Устав НКХП.pdf']"
      ]
     },
     "execution_count": 39,
     "metadata": {},
     "output_type": "execute_result"
    }
   ],
   "source": [
    "# получаем список всех имеющихся файлов и абсолютный путь до каждого\n",
    "\n",
    "pdf_list = []\n",
    "path = 'C:\\\\Users\\\\P\\\\Start folder for Jupyter\\\\PSB\\\\dataset\\\\Промсвязьбанк Датасет\\\\Тестовый dataset'\n",
    "for root, dirs, files in os.walk(path):\n",
    "    print(dirs, files)\n",
    "    if len(files) > 0:\n",
    "        for file in files:\n",
    "            if file.endswith('.pdf'):\n",
    "                pdf_list.append(root + '\\\\' + file)\n",
    "pdf_list"
   ]
  },
  {
   "cell_type": "code",
   "execution_count": 40,
   "metadata": {},
   "outputs": [
    {
     "data": {
      "text/plain": [
       "'C:\\\\Users\\\\P\\\\Start folder for Jupyter\\\\PSB\\\\dataset\\\\Промсвязьбанк Датасет\\\\Тестовый dataset\\\\ПАО НКХП 2315014748\\\\Финансовое досье\\\\2020\\\\4 квартал\\\\Бухгалтерская отчетность\\\\Аудиторское заключение.pdf'"
      ]
     },
     "execution_count": 40,
     "metadata": {},
     "output_type": "execute_result"
    }
   ],
   "source": [
    "pdf_list[2]"
   ]
  },
  {
   "cell_type": "markdown",
   "metadata": {},
   "source": [
    "# Делаем из каждой pdf страницы изображение и сохраняем в выбраной директории для дальнейшей обработки текста с изображения"
   ]
  },
  {
   "cell_type": "code",
   "execution_count": 43,
   "metadata": {},
   "outputs": [
    {
     "name": "stdout",
     "output_type": "stream",
     "text": [
      "number of pages: 50\n",
      "{'format': 'PDF 1.7', 'title': 'ЗАО \"АБВ\"', 'author': 'Maria.Kosilova', 'subject': '', 'keywords': '', 'creator': 'Microsoft® Word for Office 365', 'producer': 'Microsoft® Word for Office 365', 'creationDate': \"D:20210323184019+03'00'\", 'modDate': \"D:20210323184401+03'00'\", 'trapped': '', 'encryption': None}\n",
      "Аудиторское заключение  \n",
      "независимого аудитора  \n",
      "о бухгалтерской (финансовой) отчетности  \n",
      "Публичного акционерного общества  \n",
      "«Новороссийский комбинат хлебопродуктов» \n",
      "за 2020 год \n",
      "Март 2021 г. \n",
      "\n"
     ]
    }
   ],
   "source": [
    "\n",
    "path_from_list = pdf_list[2]\n",
    "pdf_document = fitz.open(path_from_list)  \n",
    "\n",
    "for current_page in range(len(pdf_document)):  \n",
    "       for image in pdf_document.getPageImageList(current_page):\n",
    "            xref = image[0]\n",
    "            pix = fitz.Pixmap(pdf_document, xref)\n",
    "            if pix.n < 5:        # this is GRAY or RGB\n",
    "                pix.writePNG(\"page%s-%s.png\" % (current_page, xref))\n",
    "            else:                # CMYK: convert to RGB first\n",
    "                pix1 = fitz.Pixmap(fitz.csRGB, pix)\n",
    "                pix1.writePNG(\"page%s-%s.png\" % (current_page, xref))\n",
    "                pix1 = None\n",
    "            pix = None\n",
    "            \n",
    "\n",
    "print (\"number of pages: %i\" % pdf_document.pageCount)\n",
    "  \n",
    "print(pdf_document.metadata)\n",
    "page1 = pdf_document.loadPage(0)  \n",
    "page1text = page1.getText('text')  \n",
    "print(page1text)  "
   ]
  },
  {
   "cell_type": "code",
   "execution_count": 114,
   "metadata": {},
   "outputs": [
    {
     "name": "stdout",
     "output_type": "stream",
     "text": [
      "СОДЕРЖАНИЕ\n",
      "\n",
      "Статья 1. Правовое положение Общества............. иене 3\n",
      "Статья 2. Цель и виды деятельности Общества ..........-+- ини 4\n",
      "Статья 3. Ответственность Общества............. лилии иене 4\n",
      "Статья 4. Филиалы, представительства, дочерние и зависимые общества ............иеииининниннь 5\n",
      "Статья 5. Реорганизация Общества ........ +... иене 5\n",
      "Статья 6. Ликвидация Общества.......... „нение ииененни 5\n",
      "Статья 7. Уставный капитал Общества и акции Общества.......... ини ии ииииииииииении 6\n",
      "Статья 8. Увеличение уставного капитала Общества...........- нии ии 6\n",
      "Статья 9. Уменьшение уставного капитала Общества ............ ++. 7\n",
      "Статья 10. Права и обязанности акционеров-владельцев обыкновенных акций Общества 7\n",
      "Статья 11. Реестр акционеров ........ ели иииииитиинииитиинининиииеииинииумеииииииииииииинеинини 9\n",
      "Статья 12. Облигации и иные эмиссионные ценные бумаги Общества ......... иене, 9\n",
      "Статья 13. Оплата акций и иных эмиссионных ценных бумаг Общества........ «+. 9\n",
      "Статья 14. Фонды Общества .......... ини нии иенииниинни 10\n",
      "Статья 15. Дивиденды Общества........... нина 10\n",
      "Статья 16. Органы управления Общества........... ини 10\n",
      "Статья 17. Общее собрание акционеров ........ ии 11\n",
      "Статья 18. Компетенция общего собрания акционеров .......... ии иииниеионинние 12\n",
      "Статья 19. Решение общего собрания акционеров ......... нии ииннеииианиннии 13\n",
      "Статья 20. Решение общего собрания акционеров, принимаемое путем проведения заочного\n",
      "голосования (опросным путем)......... ини 14\n",
      "Статья 21. Внеочередное общее собрание акционеров.......... нение 15\n",
      "Статья 22. Счетная комиссия ........... иене 16\n",
      "Статья 23. Сообщение о проведении общего собрания акционеров и порядок участия\n",
      "акционеров в общем собрании акционеров......... лилии 17\n",
      "Статья 24. Кворум общего собрания акционеров ........... ине ии 18\n",
      "Статья 25. Голосование на общем собрании акционеров ......... „ини ииииинитиииииени 19\n",
      "Статья 26. Протокол общего собрания акционеров........... инеем 20\n",
      "Статья 27. Протокол и отчет об итогах голосования............ ини 20\n",
      "Статья 28. Совет директоров Общества......... ини 200\n",
      "Статья 29. Компетенция Совета директоров Общества .......... нии ииииининиени 21\n",
      "Статья 30. Избрание Совета директоров Общества........... нии 25\n",
      "Статья 31. Председатель Совета директоров Общества............ ленин 25\n",
      "Статья 32. Заседание Совета директоров Общества............ +. ииниииинини 26\n",
      "Статья 33. Исполнительные органы Общества ......... +. иниитиииененинние 27\n",
      "Статья 34. Правление ............ иене 27\n",
      "Статья 35. Генеральный директор Общества ........... ии 29\n",
      "Статья 36. Корпоративный секретарь. ........ ине иининиииииииии ии 30\n",
      "Статья 37. Приобретение, ограничения на приобретение Обществом размещенных акций..30\n",
      "Статья 38. Ревизионная комиссия Общества.......... ешь иииииеиниенении 31\n",
      "Статья 39. Бухгалтерский учет и финансовая отчетность Общества............. еее, 32\n",
      "\n",
      "Статья 40. Хранение документов Общества. Предоставление Обществом информации...32\n",
      "\f",
      "\n"
     ]
    }
   ],
   "source": [
    "# проверка для 1 страницы: распознавание текста из изображения и вывод текста\n",
    "\n",
    "img = cv2.imread('C:\\\\Users\\\\P\\\\Start folder for Jupyter\\\\PSB\\\\dataset\\\\page1-10.png')\n",
    "\n",
    "text_page = pytesseract.image_to_string(img, lang= 'rus', config=tessdata_dir_config)\n",
    "print(text_page)"
   ]
  },
  {
   "cell_type": "code",
   "execution_count": 41,
   "metadata": {},
   "outputs": [],
   "source": [
    "# Словарь из: \n",
    "# названия документа (метка класса) и его атрибутов (список ключевых слов по которым будет осуществлен поиск и классификация).\n",
    "# Словарь можно будет обновлять из оболочки приложения:\n",
    "# т.е. если появится новый класс (название документа для классификации) или новые ключевые слова их можно будет добавить сюда\n",
    "\n",
    "names = {\"Положение о СД\": ['Положение о совете директоров', 'Председатель совета директоров', \n",
    "                            'Письменное мнение', 'Опросный лист', 'Уведомление о проведении Совета директоров'],\n",
    "        'Устав_действующий': ['Устав' , 'Уставный капитал', 'Органы управления', 'Резервный фонд', 'Бюллетени'],\n",
    "        'Бухгалтерская отчетность_форма 1': ['Бухгалтерский баланс', 'Форма по ОКУД 0710001', \n",
    "                                             'Дата', 'Актив', 'Пассив'],\n",
    "        'Аудиторское заключение': ['Аудиторское заключение', 'Сведения об аудируемом лице', 'Сведения об аудиторе',\n",
    "                                   'Основание для выражения мнения', 'Ответственность аудитора']}"
   ]
  },
  {
   "cell_type": "code",
   "execution_count": 32,
   "metadata": {
    "collapsed": true
   },
   "outputs": [
    {
     "name": "stdout",
     "output_type": "stream",
     "text": [
      "Статья 1. Правовое положение Общества\n",
      "\n",
      "1.\n",
      "\n",
      "©\n",
      "\n",
      "со\n",
      "\n",
      "10.\n",
      ". Место нахождения Общества определяется местом его государственной регистрации.\n",
      "\n",
      "11\n",
      "\n",
      "12\n",
      "\n",
      "13.\n",
      "\n",
      "14.\n",
      "\n",
      "15.\n",
      "\n",
      "16.\n",
      "\n",
      "17.\n",
      "\n",
      "Публичное акционерное общество «ПИК-специализированный застройщик», (прежнее\n",
      "наименование - Публичное акционерное общество «Группа Компаний ПИК»), именуемое\n",
      "далее «Общество», является универсальным правопреемником Открытого акционерного\n",
      "общества «Первая Ипотечная Компания», зарегистрированного 20.09.1994 г. Московской\n",
      "регистрационной палатой за № 756.924, внесенного в ЕГРЮЛ 30.08.2002 г.\n",
      "за ОГРН: 1027739137084, ИНН: 7713011336.\n",
      "\n",
      "В соответствии с решением внеочередного общего собрания акционеров Общества от 07\n",
      "февраля 2015 года (Протокол № 1 от 10 февраля 2015 года) о реорганизации и договором о\n",
      "присоединении была осуществлена реорганизация Общества в форме присоединения к нему\n",
      "Общества с ограниченной ответственностью «Статус Лэнд», зарегистрированного в Едином\n",
      "государственном реестре юридических лиц за основным государственным регистрационным\n",
      "номером (ОГРН) 1045000909469 от 22 июля 2004 г., местонахождение: 117105, г. Москва,\n",
      "Варшавское шоссе, д.16, корп.1, пом. №14.\n",
      "\n",
      "Общество является правопреемником Общества с ограниченной ответственностью «Статус\n",
      "Лэнд» по всем правам и обязанностям, перешедшим в соответствии с передаточным актом.\n",
      "Общество в своей деятельности руководствуется нормами Гражданского кодекса РФ,\n",
      "Федерального закона «Об акционерных обществах» и иными нормативно-правовыми актами\n",
      "действующего законодательства РФ.\n",
      "\n",
      "В соответствии с решением внеочередного общего собрания акционеров Общества от 04\n",
      "марта 2021 года Публичное акционерное общество «Группа Компаний ПИК» переименовано\n",
      "в Публичное акционерное общество «ПИК-специализированный застройщик» (Протокол\n",
      "внеочередного общего собрания акционеров № 1 от 05 марта 2021 года).\n",
      "\n",
      "Полное наименование Общества на русском языке: Публичное акционерное общество\n",
      "«ПИК-специализированный застройщик».\n",
      "\n",
      "Сокращенное наименование Общества на русском языке: ПАО «ПИК СЗ».\n",
      "\n",
      "Полное наименование Общества на английском языке: РибИе Фоше воск Сотрапу «РК-\n",
      "зредаН2е4 вотшеБийдег».\n",
      "\n",
      "Сокращенное наименование Общества на английском языке: РУ$С «РИК $НЬ».\n",
      "\n",
      "Общество является юридическим лицом и имеет в собственности обособленное имущество,\n",
      "учитываемое на его самостоятельном балансе, может от своего имени приобретать и\n",
      "осуществлять имущественные и личные неимущественные права, нести обязанности, быть\n",
      "истцом и ответчиком в суде.\n",
      "\n",
      "Место нахождения Общества: Российская Федерация, г. Москва.\n",
      "\n",
      "Государственная регистрация Общества осуществляется по месту нахождения постоянно\n",
      "действующего единоличного исполнительного органа Общества.\n",
      "\n",
      ". Уставный капитал Общества разделен на определенное число акций, удостоверяющих\n",
      "\n",
      "обязательственные права участников (акционеров) по отношению к Обществу.\n",
      "\n",
      "Акционеры не отвечают по обязательствам Общества и несут риск убытков, связанных с его\n",
      "деятельностью, в пределах стоимости принадлежащих им акций. Акционеры, не полностью\n",
      "оплатившие акции, несут солидарную ответственность по обязательствам Общества в\n",
      "пределах неоплаченной части стоимости принадлежащих им акций.\n",
      "\n",
      "Акционеры вправе отчуждать принадлежащие им акции без согласия других акционеров и\n",
      "Общества.\n",
      "\n",
      "Общество считается созданным с момента его государственной регистрации без ограничения\n",
      "срока.\n",
      "\n",
      "Общество вправе в установленном порядке открывать счета в банках на территории РФ и за\n",
      "рубежом.\n",
      "\n",
      "Общество имеет круглую печать, содержащую его полное фирменное наименование на\n",
      "русском языке и указание на место его нахождения, вправе иметь штампы и бланки со своим\n",
      "\n",
      "3\n",
      "\f",
      "\n"
     ]
    }
   ],
   "source": [
    "# тест для другой страницы\n",
    "\n",
    "img = cv2.imread('C:\\\\Users\\\\P\\\\Start folder for Jupyter\\\\PSB\\\\dataset\\\\page2-15.png')\n",
    "\n",
    "text_page = pytesseract.image_to_string(img, lang= 'rus', config=tessdata_dir_config)\n",
    "print(text_page)"
   ]
  },
  {
   "cell_type": "code",
   "execution_count": 34,
   "metadata": {},
   "outputs": [
    {
     "name": "stdout",
     "output_type": "stream",
     "text": [
      "Документ распознан\n",
      "Имя файла: Устав_действующий\n",
      "\n",
      "Документ распознан\n",
      "Имя файла: Устав_действующий\n",
      "\n"
     ]
    }
   ],
   "source": [
    "\n",
    "for key, values in names.items():\n",
    "    for val in values:\n",
    "        if re.findall(val.lower(), text_page.lower()): \n",
    "            print(\"Документ распознан\" + '\\n' + f\"Имя файла: {key}\" + '\\n')"
   ]
  },
  {
   "cell_type": "code",
   "execution_count": 44,
   "metadata": {},
   "outputs": [
    {
     "data": {
      "text/plain": [
       "'C:\\\\Users\\\\P\\\\Start folder for Jupyter\\\\train_for_pdf'"
      ]
     },
     "execution_count": 44,
     "metadata": {},
     "output_type": "execute_result"
    }
   ],
   "source": [
    "os.getcwd()"
   ]
  },
  {
   "cell_type": "code",
   "execution_count": 54,
   "metadata": {},
   "outputs": [
    {
     "data": {
      "text/plain": [
       "'C:\\\\Users\\\\P\\\\Start folder for Jupyter\\\\train_for_pdf\\\\page10-99.png'"
      ]
     },
     "execution_count": 54,
     "metadata": {},
     "output_type": "execute_result"
    }
   ],
   "source": [
    "# достаем адреса к изображениям после обработки pdf файла\n",
    "\n",
    "file_name = []\n",
    "path = os.getcwd()\n",
    "for root, dirs, files in os.walk(path):\n",
    "    for file in files:\n",
    "        if file.endswith('.png'):\n",
    "            file_name.append(root + '\\\\' + file)\n",
    "file_name[0]"
   ]
  },
  {
   "cell_type": "code",
   "execution_count": 58,
   "metadata": {},
   "outputs": [
    {
     "name": "stdout",
     "output_type": "stream",
     "text": [
      "Документ распознан\n",
      "Имя файла: Бухгалтерская отчетность_форма 1\n",
      "\n",
      "Документ распознан\n",
      "Имя файла: Бухгалтерская отчетность_форма 1\n",
      "\n",
      "Документ распознан\n",
      "Имя файла: Бухгалтерская отчетность_форма 1\n",
      "\n",
      "Документ распознан\n",
      "Имя файла: Бухгалтерская отчетность_форма 1\n",
      "\n",
      "Документ распознан\n",
      "Имя файла: Положение о СД\n",
      "\n",
      "Документ распознан\n",
      "Имя файла: Бухгалтерская отчетность_форма 1\n",
      "\n",
      "Документ распознан\n",
      "Имя файла: Бухгалтерская отчетность_форма 1\n",
      "\n",
      "Документ распознан\n",
      "Имя файла: Бухгалтерская отчетность_форма 1\n",
      "\n"
     ]
    }
   ],
   "source": [
    "# Реализация обхода каждой страницы pdf файла преобразованного в изображение и отнесение каждой страницы к классу.\n",
    "# Конечная классификация документа будет проиходить по большинству положительных меток класса. \n",
    "# Можно установить минимальный порог \n",
    "# Блок except будет обрабатывать ошибку: если файл не определен или \"битый\", например\n",
    "\n",
    "\n",
    "pages = file_name[0:10]\n",
    "for page in pages:\n",
    "    try:\n",
    "        img = cv2.imread(page)\n",
    "\n",
    "        text_page = pytesseract.image_to_string(img, lang= 'rus', config=tessdata_dir_config)\n",
    "        \n",
    "        for key, values in names.items():\n",
    "            for val in values:\n",
    "                if re.findall(val.lower(), text_page.lower()): \n",
    "                    print(\"Документ распознан\" + '\\n' + f\"Имя файла: {key}\" + '\\n')\n",
    "#         print(text_page)\n",
    "    except:\n",
    "        print('Error')\n"
   ]
  },
  {
   "cell_type": "code",
   "execution_count": null,
   "metadata": {},
   "outputs": [],
   "source": []
  }
 ],
 "metadata": {
  "kernelspec": {
   "display_name": "Python 3",
   "language": "python",
   "name": "python3"
  },
  "language_info": {
   "codemirror_mode": {
    "name": "ipython",
    "version": 3
   },
   "file_extension": ".py",
   "mimetype": "text/x-python",
   "name": "python",
   "nbconvert_exporter": "python",
   "pygments_lexer": "ipython3",
   "version": "3.8.1"
  }
 },
 "nbformat": 4,
 "nbformat_minor": 4
}
