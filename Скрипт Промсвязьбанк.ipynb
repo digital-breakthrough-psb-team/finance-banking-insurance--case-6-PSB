{
 "cells": [
  {
   "cell_type": "code",
   "execution_count": 1,
   "metadata": {},
   "outputs": [],
   "source": [
    "import fitz\n",
    "import re\n",
    "import pytesseract\n",
    "import cv2\n",
    "import os\n",
    "import time\n",
    "# настройки для модуля распознавания текста\n",
    "\n",
    "pytesseract.pytesseract.tesseract_cmd = r\"C:\\Program Files\\Tesseract-OCR\\tesseract.exe\"\n",
    "tessdata_dir_config = r'--tessdata-dir \"C:\\\\Program Files\\\\Tesseract-OCR\\\\tessdata\"'"
   ]
  },
  {
   "cell_type": "code",
   "execution_count": 2,
   "metadata": {},
   "outputs": [
    {
     "data": {
      "text/plain": [
       "['C:\\\\Users\\\\P\\\\Start folder for Jupyter\\\\PSB\\\\dataset\\\\Промсвязьбанк Датасет\\\\Тестовый dataset\\\\ПАО НКХП 2315014748\\\\Описание бизнеса\\\\Презентация компании 2.pdf',\n",
       " 'C:\\\\Users\\\\P\\\\Start folder for Jupyter\\\\PSB\\\\dataset\\\\Промсвязьбанк Датасет\\\\Тестовый dataset\\\\ПАО НКХП 2315014748\\\\Описание бизнеса\\\\Презентация компании.pdf',\n",
       " 'C:\\\\Users\\\\P\\\\Start folder for Jupyter\\\\PSB\\\\dataset\\\\Промсвязьбанк Датасет\\\\Тестовый dataset\\\\ПАО НКХП 2315014748\\\\Финансовое досье\\\\2020\\\\4 квартал\\\\Бухгалтерская отчетность\\\\Аудиторское заключение.pdf',\n",
       " 'C:\\\\Users\\\\P\\\\Start folder for Jupyter\\\\PSB\\\\dataset\\\\Промсвязьбанк Датасет\\\\Тестовый dataset\\\\ПАО НКХП 2315014748\\\\Финансовое досье\\\\2020\\\\4 квартал\\\\Бухгалтерская отчетность\\\\Форма 1.pdf',\n",
       " 'C:\\\\Users\\\\P\\\\Start folder for Jupyter\\\\PSB\\\\dataset\\\\Промсвязьбанк Датасет\\\\Тестовый dataset\\\\ПАО НКХП 2315014748\\\\Финансовое досье\\\\2020\\\\4 квартал\\\\Бухгалтерская отчетность\\\\Форма 2.pdf',\n",
       " 'C:\\\\Users\\\\P\\\\Start folder for Jupyter\\\\PSB\\\\dataset\\\\Промсвязьбанк Датасет\\\\Тестовый dataset\\\\ПАО НКХП 2315014748\\\\Финансовое досье\\\\2021\\\\1 квартал\\\\Бухгалтерская отчетность\\\\Форма 1_1кв21.pdf',\n",
       " 'C:\\\\Users\\\\P\\\\Start folder for Jupyter\\\\PSB\\\\dataset\\\\Промсвязьбанк Датасет\\\\Тестовый dataset\\\\ПАО НКХП 2315014748\\\\Финансовое досье\\\\2021\\\\1 квартал\\\\Бухгалтерская отчетность\\\\Форма 2_1кв21.pdf',\n",
       " 'C:\\\\Users\\\\P\\\\Start folder for Jupyter\\\\PSB\\\\dataset\\\\Промсвязьбанк Датасет\\\\Тестовый dataset\\\\ПАО НКХП 2315014748\\\\Юридическое досье\\\\Документы, подтверждающие полномочия на совершение сделки\\\\Назначение ЕИО.pdf',\n",
       " 'C:\\\\Users\\\\P\\\\Start folder for Jupyter\\\\PSB\\\\dataset\\\\Промсвязьбанк Датасет\\\\Тестовый dataset\\\\ПАО НКХП 2315014748\\\\Юридическое досье\\\\Учредительные и иные внутренние документы\\\\Положение.pdf',\n",
       " 'C:\\\\Users\\\\P\\\\Start folder for Jupyter\\\\PSB\\\\dataset\\\\Промсвязьбанк Датасет\\\\Тестовый dataset\\\\ПАО НКХП 2315014748\\\\Юридическое досье\\\\Учредительные и иные внутренние документы\\\\Устав НКХП.pdf']"
      ]
     },
     "execution_count": 2,
     "metadata": {},
     "output_type": "execute_result"
    }
   ],
   "source": [
    "# получаем доступ к файлам\n",
    "\n",
    "pdf_list = []\n",
    "path = 'C:\\\\Users\\\\P\\\\Start folder for Jupyter\\\\PSB\\\\dataset\\\\Промсвязьбанк Датасет\\\\Тестовый dataset'\n",
    "for root, dirs, files in os.walk(path):\n",
    "    if len(files) > 0:\n",
    "        for file in files:\n",
    "            if file.endswith('.pdf'):\n",
    "                pdf_list.append(root + '\\\\' + file)\n",
    "# pdf_list"
   ]
  },
  {
   "cell_type": "code",
   "execution_count": 3,
   "metadata": {},
   "outputs": [
    {
     "data": {
      "text/plain": [
       "'C:\\\\Users\\\\P\\\\Start folder for Jupyter\\\\train_for_pdf'"
      ]
     },
     "execution_count": 3,
     "metadata": {},
     "output_type": "execute_result"
    }
   ],
   "source": [
    "os.chdir('C:\\\\Users\\\\P\\\\Start folder for Jupyter\\\\train_for_pdf')\n",
    "os.getcwd()"
   ]
  },
  {
   "cell_type": "code",
   "execution_count": 4,
   "metadata": {},
   "outputs": [
    {
     "name": "stdout",
     "output_type": "stream",
     "text": [
      "Wall time: 57.6 s\n"
     ]
    }
   ],
   "source": [
    "%%time\n",
    "\n",
    "path_to_dir_with_img = []\n",
    "\n",
    "for number, pdf_file in enumerate(pdf_list):\n",
    "    path_from_list = pdf_file\n",
    "    pdf_document = fitz.open(path_from_list)  \n",
    "    start_dir = 'C:\\\\Users\\\\P\\\\Start folder for Jupyter\\\\train_for_pdf'\n",
    "    os.chdir(start_dir)\n",
    "    os.mkdir(str(number+1))\n",
    "    path = start_dir + '\\\\'+ str(number+1)\n",
    "    path_to_dir_with_img.append(path)\n",
    "    \n",
    "    for current_page in range(len(pdf_document)): \n",
    "        os.chdir(path)\n",
    "        for image in pdf_document.getPageImageList(current_page):\n",
    "            xref = image[0]\n",
    "            pix = fitz.Pixmap(pdf_document, xref)\n",
    "            if pix.n < 5:        # this is GRAY or RGB\n",
    "                pix.writePNG(\"page%s-%s.png\" % (current_page, xref))\n",
    "            else:                # CMYK: convert to RGB first\n",
    "                pix1 = fitz.Pixmap(fitz.csRGB, pix)\n",
    "                pix1.writePNG(\"page%s-%s.png\" % (current_page, xref))\n",
    "                pix1 = None\n",
    "            pix = None"
   ]
  },
  {
   "cell_type": "code",
   "execution_count": 5,
   "metadata": {},
   "outputs": [
    {
     "data": {
      "text/plain": [
       "['C:\\\\Users\\\\P\\\\Start folder for Jupyter\\\\train_for_pdf\\\\1',\n",
       " 'C:\\\\Users\\\\P\\\\Start folder for Jupyter\\\\train_for_pdf\\\\2',\n",
       " 'C:\\\\Users\\\\P\\\\Start folder for Jupyter\\\\train_for_pdf\\\\3',\n",
       " 'C:\\\\Users\\\\P\\\\Start folder for Jupyter\\\\train_for_pdf\\\\4',\n",
       " 'C:\\\\Users\\\\P\\\\Start folder for Jupyter\\\\train_for_pdf\\\\5',\n",
       " 'C:\\\\Users\\\\P\\\\Start folder for Jupyter\\\\train_for_pdf\\\\6',\n",
       " 'C:\\\\Users\\\\P\\\\Start folder for Jupyter\\\\train_for_pdf\\\\7',\n",
       " 'C:\\\\Users\\\\P\\\\Start folder for Jupyter\\\\train_for_pdf\\\\8',\n",
       " 'C:\\\\Users\\\\P\\\\Start folder for Jupyter\\\\train_for_pdf\\\\9',\n",
       " 'C:\\\\Users\\\\P\\\\Start folder for Jupyter\\\\train_for_pdf\\\\10']"
      ]
     },
     "execution_count": 5,
     "metadata": {},
     "output_type": "execute_result"
    }
   ],
   "source": [
    "path_to_dir_with_img"
   ]
  },
  {
   "cell_type": "code",
   "execution_count": 21,
   "metadata": {},
   "outputs": [],
   "source": [
    "# Словарь из: \n",
    "# названия документа (метка класса) и его атрибутов (список ключевых слов по которым будет осуществлен поиск и классификация).\n",
    "# Словарь можно будет обновлять из оболочки приложения:\n",
    "# т.е. если появится новый класс (название документа для классификации) или новые ключевые слова их можно будет добавить сюда\n",
    "\n",
    "names = {\"Положение о СД\": ['Положение о совете директоров', 'Председатель совета директоров', \n",
    "                            'Письменное мнение', 'Опросный лист', 'Уведомление о проведении Совета директоров'],\n",
    "        'Устав_действующий': ['Устав' , 'Уставный капитал', 'Органы управления', 'Резервный фонд', 'Бюллетени'],\n",
    "        'Бухгалтерская отчетность_форма 1': ['Бухгалтерский баланс', 'Форма по ОКУД 0710001', \n",
    "                                             'Дата', 'Актив', 'Пассив'],\n",
    "        'Бухгалтерская отчетность_форма 2': ['Отчет о финансовых результатах', 'Форма по ОКУД 0710002',\n",
    "                                             'Дата', 'Чистая прибыль', 'Налог на прибыль'],\n",
    "        'Бухгалтерская отчетность_форма 1 _промежуточная': ['Бухгалтерский баланс', 'Форма по ОКУД 0710001',\n",
    "                                                             'Дата', 'Актив', 'Пассив'],\n",
    "        'Бухгалтерская отчетность_форма 2 _промежуточная': ['Отчет о финансовых результатах', 'Форма по ОКУД 0710002',\n",
    "                                             'Дата', 'Чистая прибыль', 'Налог на прибыль'],\n",
    "        'Аудиторское заключение': ['Аудиторское заключение', 'Сведения об аудируемом лице', 'Сведения об аудиторе',\n",
    "                                   'Основание для выражения мнения', 'Ответственность аудитора'],\n",
    "        'Описание_деятельности_ГК': ['Презентация компании', 'История компании', 'Обзор рынка', 'Обзор компании'],\n",
    "        'Решение_назначение ЕИО': ['Протокол совета директоров', 'Дата составления протокола',\n",
    "                                   'Избрание/назначение генерального директора', 'Итоги голосования', 'Принятое решение']}\n"
   ]
  },
  {
   "cell_type": "code",
   "execution_count": 4,
   "metadata": {},
   "outputs": [],
   "source": [
    "# os.getcwd()\n",
    "# os.chdir('C:\\\\Users\\\\P\\\\Start folder for Jupyter\\\\train_for_pdf\\\\10')"
   ]
  },
  {
   "cell_type": "code",
   "execution_count": 6,
   "metadata": {
    "collapsed": true
   },
   "outputs": [
    {
     "data": {
      "text/plain": [
       "['C:\\\\Users\\\\P\\\\Start folder for Jupyter\\\\train_for_pdf\\\\10\\\\page0-307.png',\n",
       " 'C:\\\\Users\\\\P\\\\Start folder for Jupyter\\\\train_for_pdf\\\\10\\\\page0-309.png',\n",
       " 'C:\\\\Users\\\\P\\\\Start folder for Jupyter\\\\train_for_pdf\\\\10\\\\page0-311.png',\n",
       " 'C:\\\\Users\\\\P\\\\Start folder for Jupyter\\\\train_for_pdf\\\\10\\\\page1-7.png',\n",
       " 'C:\\\\Users\\\\P\\\\Start folder for Jupyter\\\\train_for_pdf\\\\10\\\\page10-85.png',\n",
       " 'C:\\\\Users\\\\P\\\\Start folder for Jupyter\\\\train_for_pdf\\\\10\\\\page11-93.png',\n",
       " 'C:\\\\Users\\\\P\\\\Start folder for Jupyter\\\\train_for_pdf\\\\10\\\\page12-101.png',\n",
       " 'C:\\\\Users\\\\P\\\\Start folder for Jupyter\\\\train_for_pdf\\\\10\\\\page13-109.png',\n",
       " 'C:\\\\Users\\\\P\\\\Start folder for Jupyter\\\\train_for_pdf\\\\10\\\\page14-119.png',\n",
       " 'C:\\\\Users\\\\P\\\\Start folder for Jupyter\\\\train_for_pdf\\\\10\\\\page14-121.png',\n",
       " 'C:\\\\Users\\\\P\\\\Start folder for Jupyter\\\\train_for_pdf\\\\10\\\\page14-123.png',\n",
       " 'C:\\\\Users\\\\P\\\\Start folder for Jupyter\\\\train_for_pdf\\\\10\\\\page15-131.png',\n",
       " 'C:\\\\Users\\\\P\\\\Start folder for Jupyter\\\\train_for_pdf\\\\10\\\\page16-139.png',\n",
       " 'C:\\\\Users\\\\P\\\\Start folder for Jupyter\\\\train_for_pdf\\\\10\\\\page17-147.png',\n",
       " 'C:\\\\Users\\\\P\\\\Start folder for Jupyter\\\\train_for_pdf\\\\10\\\\page18-155.png',\n",
       " 'C:\\\\Users\\\\P\\\\Start folder for Jupyter\\\\train_for_pdf\\\\10\\\\page19-163.png',\n",
       " 'C:\\\\Users\\\\P\\\\Start folder for Jupyter\\\\train_for_pdf\\\\10\\\\page2-15.png',\n",
       " 'C:\\\\Users\\\\P\\\\Start folder for Jupyter\\\\train_for_pdf\\\\10\\\\page20-171.png',\n",
       " 'C:\\\\Users\\\\P\\\\Start folder for Jupyter\\\\train_for_pdf\\\\10\\\\page21-179.png',\n",
       " 'C:\\\\Users\\\\P\\\\Start folder for Jupyter\\\\train_for_pdf\\\\10\\\\page22-187.png',\n",
       " 'C:\\\\Users\\\\P\\\\Start folder for Jupyter\\\\train_for_pdf\\\\10\\\\page23-195.png',\n",
       " 'C:\\\\Users\\\\P\\\\Start folder for Jupyter\\\\train_for_pdf\\\\10\\\\page24-203.png',\n",
       " 'C:\\\\Users\\\\P\\\\Start folder for Jupyter\\\\train_for_pdf\\\\10\\\\page25-211.png',\n",
       " 'C:\\\\Users\\\\P\\\\Start folder for Jupyter\\\\train_for_pdf\\\\10\\\\page26-221.png',\n",
       " 'C:\\\\Users\\\\P\\\\Start folder for Jupyter\\\\train_for_pdf\\\\10\\\\page26-223.png',\n",
       " 'C:\\\\Users\\\\P\\\\Start folder for Jupyter\\\\train_for_pdf\\\\10\\\\page26-225.png',\n",
       " 'C:\\\\Users\\\\P\\\\Start folder for Jupyter\\\\train_for_pdf\\\\10\\\\page27-233.png',\n",
       " 'C:\\\\Users\\\\P\\\\Start folder for Jupyter\\\\train_for_pdf\\\\10\\\\page28-241.png',\n",
       " 'C:\\\\Users\\\\P\\\\Start folder for Jupyter\\\\train_for_pdf\\\\10\\\\page29-249.png',\n",
       " 'C:\\\\Users\\\\P\\\\Start folder for Jupyter\\\\train_for_pdf\\\\10\\\\page3-23.png',\n",
       " 'C:\\\\Users\\\\P\\\\Start folder for Jupyter\\\\train_for_pdf\\\\10\\\\page30-257.png',\n",
       " 'C:\\\\Users\\\\P\\\\Start folder for Jupyter\\\\train_for_pdf\\\\10\\\\page31-265.png',\n",
       " 'C:\\\\Users\\\\P\\\\Start folder for Jupyter\\\\train_for_pdf\\\\10\\\\page32-273.png',\n",
       " 'C:\\\\Users\\\\P\\\\Start folder for Jupyter\\\\train_for_pdf\\\\10\\\\page33-281.png',\n",
       " 'C:\\\\Users\\\\P\\\\Start folder for Jupyter\\\\train_for_pdf\\\\10\\\\page34-289.png',\n",
       " 'C:\\\\Users\\\\P\\\\Start folder for Jupyter\\\\train_for_pdf\\\\10\\\\page34-291.png',\n",
       " 'C:\\\\Users\\\\P\\\\Start folder for Jupyter\\\\train_for_pdf\\\\10\\\\page34-293.png',\n",
       " 'C:\\\\Users\\\\P\\\\Start folder for Jupyter\\\\train_for_pdf\\\\10\\\\page4-31.png',\n",
       " 'C:\\\\Users\\\\P\\\\Start folder for Jupyter\\\\train_for_pdf\\\\10\\\\page5-39.png',\n",
       " 'C:\\\\Users\\\\P\\\\Start folder for Jupyter\\\\train_for_pdf\\\\10\\\\page6-49.png',\n",
       " 'C:\\\\Users\\\\P\\\\Start folder for Jupyter\\\\train_for_pdf\\\\10\\\\page6-51.png',\n",
       " 'C:\\\\Users\\\\P\\\\Start folder for Jupyter\\\\train_for_pdf\\\\10\\\\page6-53.png',\n",
       " 'C:\\\\Users\\\\P\\\\Start folder for Jupyter\\\\train_for_pdf\\\\10\\\\page7-61.png',\n",
       " 'C:\\\\Users\\\\P\\\\Start folder for Jupyter\\\\train_for_pdf\\\\10\\\\page8-69.png',\n",
       " 'C:\\\\Users\\\\P\\\\Start folder for Jupyter\\\\train_for_pdf\\\\10\\\\page9-77.png']"
      ]
     },
     "execution_count": 6,
     "metadata": {},
     "output_type": "execute_result"
    }
   ],
   "source": [
    "# достаем адреса к изображениям после обработки pdf файла\n",
    "\n",
    "file_name = []\n",
    "path = os.getcwd()\n",
    "for root, dirs, files in os.walk(path):\n",
    "    for file in files:\n",
    "        if file.endswith('.png'):\n",
    "            file_name.append(root + '\\\\' + file)\n",
    "# file_name"
   ]
  },
  {
   "cell_type": "code",
   "execution_count": 25,
   "metadata": {},
   "outputs": [],
   "source": [
    "# простой счетчик класса\n",
    "freq_classes = {'Устав_действующий': 0,\n",
    "                'Положение о СД': 0,\n",
    "                'Бухгалтерская отчетность_форма 1': 0,\n",
    "                'Бухгалтерская отчетность_форма 2': 0,\n",
    "                'Бухгалтерская отчетность_форма 1 _промежуточная': 0,\n",
    "                'Бухгалтерская отчетность_форма 2 _промежуточная': 0,\n",
    "                'Аудиторское заключение': 0,\n",
    "                'Описание_деятельности_ГК': 0,\n",
    "                'Решение_назначение ЕИО': 0}"
   ]
  },
  {
   "cell_type": "code",
   "execution_count": 28,
   "metadata": {},
   "outputs": [
    {
     "name": "stdout",
     "output_type": "stream",
     "text": [
      "Документ распознан, имя: Устав_действующий\n",
      "Wall time: 3min 36s\n"
     ]
    }
   ],
   "source": [
    "%%time\n",
    "\n",
    "\n",
    "pages = file_name\n",
    "for page in pages:\n",
    "    try:\n",
    "        img = cv2.imread(page)\n",
    "        text_page = pytesseract.image_to_string(img, lang= 'rus', config=tessdata_dir_config)\n",
    "        for key, values in names.items():\n",
    "            for val in values:\n",
    "                if re.findall(val.lower(), text_page.lower()):\n",
    "                    freq_classes[key] += 1\n",
    "\n",
    "    except:\n",
    "        print('Не верифицированно, отправить в соответствующую папку')\n",
    "\n",
    "answer = sorted(freq_classes, key=lambda x: freq_classes.get(x), reverse=True)[0]\n",
    "print(f'Документ распознан, имя: {answer}')"
   ]
  },
  {
   "cell_type": "code",
   "execution_count": 29,
   "metadata": {},
   "outputs": [
    {
     "data": {
      "text/plain": [
       "{'Устав_действующий': 37,\n",
       " 'Положение о СД': 4,\n",
       " 'Бухгалтерская отчетность_форма 1': 14,\n",
       " 'Бухгалтерская отчетность_форма 2': 9,\n",
       " 'Бухгалтерская отчетность_форма 1 _промежуточная': 14,\n",
       " 'Бухгалтерская отчетность_форма 2 _промежуточная': 9,\n",
       " 'Аудиторское заключение': 1,\n",
       " 'Описание_деятельности_ГК': 0,\n",
       " 'Решение_назначение ЕИО': 2}"
      ]
     },
     "execution_count": 29,
     "metadata": {},
     "output_type": "execute_result"
    }
   ],
   "source": [
    "freq_classes"
   ]
  }
 ],
 "metadata": {
  "kernelspec": {
   "display_name": "Python 3",
   "language": "python",
   "name": "python3"
  },
  "language_info": {
   "codemirror_mode": {
    "name": "ipython",
    "version": 3
   },
   "file_extension": ".py",
   "mimetype": "text/x-python",
   "name": "python",
   "nbconvert_exporter": "python",
   "pygments_lexer": "ipython3",
   "version": "3.8.1"
  }
 },
 "nbformat": 4,
 "nbformat_minor": 4
}
